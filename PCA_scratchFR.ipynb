{
 "cells": [
  {
   "cell_type": "code",
   "execution_count": 284,
   "metadata": {
    "colab": {},
    "colab_type": "code",
    "id": "SKRXKtDGS6iM"
   },
   "outputs": [],
   "source": [
    "import cv2\n",
    "import numpy as np\n",
    "from matplotlib import pyplot as plt\n",
    "import glob\n",
    "import os\n",
    "from sklearn import preprocessing \n",
    "from sklearn.model_selection import train_test_split\n",
    "from numpy import linalg\n",
    "# from google.colab import drive"
   ]
  },
  {
   "cell_type": "code",
   "execution_count": 285,
   "metadata": {
    "colab": {},
    "colab_type": "code",
    "id": "72YGbrkFS6iZ"
   },
   "outputs": [],
   "source": [
    "def mean(Xtrain):\n",
    "    return np.mean(Xtrain, axis = 1)"
   ]
  },
  {
   "cell_type": "code",
   "execution_count": 286,
   "metadata": {
    "colab": {},
    "colab_type": "code",
    "id": "-yLK4fUjS6in"
   },
   "outputs": [],
   "source": [
    "def X(Xtrain, mean):\n",
    "    Xdef = []\n",
    "    for col in Xtrain.T:\n",
    "        Xdef.append(col - mean)\n",
    "    Xdef = np.array(Xdef)\n",
    "    return Xdef.T"
   ]
  },
  {
   "cell_type": "code",
   "execution_count": 287,
   "metadata": {
    "colab": {},
    "colab_type": "code",
    "id": "DLWtgXsRS6it"
   },
   "outputs": [],
   "source": [
    "def covMat(X):\n",
    "    C1 = np.dot(X, X.T)\n",
    "    return C1"
   ]
  },
  {
   "cell_type": "code",
   "execution_count": 288,
   "metadata": {
    "colab": {},
    "colab_type": "code",
    "id": "DPjaD60SS6iy"
   },
   "outputs": [],
   "source": [
    "def eigenVectors(X, C):\n",
    "    eigVal1, eigVect1 = linalg.eig(C)\n",
    "    return eigVect1"
   ]
  },
  {
   "cell_type": "code",
   "execution_count": 289,
   "metadata": {
    "colab": {},
    "colab_type": "code",
    "id": "wHW-qkT_S6i3"
   },
   "outputs": [],
   "source": [
    "def eigenWeights(E, X):\n",
    "    weights = np.matmul(E.T, X)\n",
    "    return weights"
   ]
  },
  {
   "cell_type": "code",
   "execution_count": 290,
   "metadata": {
    "colab": {},
    "colab_type": "code",
    "id": "5Lt3U2JjS6i-"
   },
   "outputs": [],
   "source": [
    "def face_detection(image):\n",
    "    image = cv2.cvtColor(image, cv2.COLOR_BGR2GRAY)\n",
    "    cascade_image = cv2.CascadeClassifier('FaceDetHaarXML/haarcascade_frontalface_alt2.xml')\n",
    "    faces = cascade_image.detectMultiScale(image, scaleFactor = 1.3, minNeighbors = 5)\n",
    "    if (len(faces) == 0):\n",
    "        return None, None\n",
    "    (x, y, l, b) = faces[0]\n",
    "    return image[y:y+b, x:x+l], faces[0]\n",
    "\n",
    "def oval(img):\n",
    "    gray = cv2.cv2.cvtColor(img,cv2.COLOR_BGR2GRAY)\n",
    "    face_cascade = cv2.CascadeClassifier('FaceDetHaarXML/haarcascade_frontalface_alt.xml')\n",
    "    faces = face_cascade.detectMultiScale(gray, 1.3, 5)\n",
    "    face_x =0\n",
    "    face_y =0\n",
    "    final_img = None\n",
    "    for (x,y,w,h) in faces:\n",
    "        face_x = x\n",
    "        face_y = y\n",
    "        roi_gray = gray[y:y+h, x:x+w]\n",
    "        roi_color =img[y:y+h, x:x+w]\n",
    "        mask = np.zeros_like(roi_color)\n",
    "        rows, cols,_ = mask.shape\n",
    "        mask=cv2.ellipse(mask,(int(rows/2), int(cols/2)), (250,300), angle=0, startAngle=0, endAngle=360, color=(255,255,255), thickness=-1)\n",
    "        \n",
    "        oval = np.bitwise_and(roi_color,mask)\n",
    "        final_img=np.zeros_like(img)\n",
    "        final_img[y:y+h, x:x+w]= oval\n",
    "        final_img = cv2.cvtColor(final_img, cv2.COLOR_BGR2GRAY)\n",
    "    return final_img"
   ]
  },
  {
   "cell_type": "code",
   "execution_count": 291,
   "metadata": {
    "colab": {},
    "colab_type": "code",
    "id": "rhI-0VzyS6jE"
   },
   "outputs": [],
   "source": [
    "def loadDataLabels(data_path):\n",
    "    faces = []\n",
    "    labels = []\n",
    "    enc_labels = []\n",
    "    directories = os.listdir(data_path)\n",
    "    for i, direc in enumerate(directories):\n",
    "        sub_dir_path = data_path + \"/\" + direc\n",
    "        sub_dir_images = os.listdir(sub_dir_path)\n",
    "        label = direc\n",
    "        for j, image_name in enumerate(sub_dir_images):\n",
    "            image_path = sub_dir_path + \"/\" + image_name\n",
    "            img = cv2.imread(image_path)\n",
    "#             image = cv2.cvtColor(img, cv2.COLOR_BGR2GRAY)\n",
    "            face_detected, shape = face_detection(img)\n",
    "#             face_detected = oval(img)\n",
    "#             face_detected = cv2.cvtColor(face_detected, cv2.COLOR_RGB2GRAY)\n",
    "            if face_detected is not None:\n",
    "                face_detected = cv2.resize(face_detected, (64, 64))\n",
    "                faces.append(face_detected)\n",
    "                labels.append(label)\n",
    "    labels = np.array(labels)\n",
    "    label_encoder = preprocessing.LabelEncoder()\n",
    "    enc_labels = label_encoder.fit_transform(labels) \n",
    "    labels_unique = label_encoder.classes_\n",
    "    faces = np.array(faces)\n",
    "    labels_unique = np.array(labels_unique)\n",
    "    enc_labels = np.array(enc_labels)\n",
    "    return faces, labels, labels_unique, enc_labels"
   ]
  },
  {
   "cell_type": "code",
   "execution_count": 292,
   "metadata": {
    "colab": {},
    "colab_type": "code",
    "id": "m7k6OMWkS6jP"
   },
   "outputs": [],
   "source": [
    "def weightMatrix(X_data):\n",
    "    print ('X_data shape: ', X_data.shape)\n",
    "    mean_ = mean(X_data)\n",
    "    print ('mean shape: ', mean_.shape)\n",
    "    X_ = X(X_data, mean_)\n",
    "    print ('X shape: ', X_.shape)\n",
    "    C = covMat(X_)\n",
    "    print ('C shape: ', C.shape)\n",
    "    E = eigenVectors(X_, C)\n",
    "    print ('E shape: ', E.shape)\n",
    "    weightMatrix = np.matmul(E.T, X_data)\n",
    "    print ('wtMat shape: ', weightMatrix.shape)\n",
    "    return E, weightMatrix"
   ]
  },
  {
   "cell_type": "code",
   "execution_count": 293,
   "metadata": {
    "colab": {},
    "colab_type": "code",
    "id": "3WbrYp1fS6ja"
   },
   "outputs": [],
   "source": [
    "def flattenData(X):\n",
    "    X_data = []\n",
    "    for image in X:\n",
    "        X_data.append(image.flatten())\n",
    "    X_data = np.array(X_data)\n",
    "    return X_data.T"
   ]
  },
  {
   "cell_type": "code",
   "execution_count": 294,
   "metadata": {
    "colab": {},
    "colab_type": "code",
    "id": "WS_HiMcFS6ji"
   },
   "outputs": [],
   "source": [
    "def PCAfamilyCoeff(X_train):\n",
    "    X_data = flattenData(X_train)\n",
    "    eigenVect, eigenCoeff = weightMatrix(X_data)\n",
    "    return eigenVect, eigenCoeff\n",
    "\n",
    "def PCAfamilyEigen(X_data):\n",
    "    X_data = flattenData(X_data)\n",
    "    mean_ = mean(X_data)\n",
    "    print ('mean shape: ', mean_.shape)\n",
    "    X_ = X(X_data, mean_)\n",
    "    print ('X shape: ', X_.shape)\n",
    "    C = covMat(X_)\n",
    "    print ('C shape: ', C.shape)\n",
    "    E = eigenVectors(X_, C)\n",
    "    print ('E shape: ', E.shape)\n",
    "    return E"
   ]
  },
  {
   "cell_type": "code",
   "execution_count": 313,
   "metadata": {
    "colab": {},
    "colab_type": "code",
    "id": "7FXp1BcmS6jo"
   },
   "outputs": [],
   "source": [
    "def drawEigenFaces(eigenVect, index):\n",
    "    eigenFace = np.real(eigenVect)\n",
    "    eigenFace = ((eigenFace.T)[index]).reshape(64, 64)\n",
    "    print(eigenFace)\n",
    "    plt.imshow(eigenFace, cmap = 'jet')\n",
    "    plt.show()"
   ]
  },
  {
   "cell_type": "code",
   "execution_count": 296,
   "metadata": {
    "colab": {},
    "colab_type": "code",
    "id": "MvuHwJ1mS6ju"
   },
   "outputs": [],
   "source": [
    "def euclideanDistance(vector1, vector2):\n",
    "    return np.linalg.norm(vector1 - vector2)"
   ]
  },
  {
   "cell_type": "code",
   "execution_count": 356,
   "metadata": {
    "colab": {},
    "colab_type": "code",
    "id": "q8qEdsXtS6jz"
   },
   "outputs": [],
   "source": [
    "def leastEucDist(matrix, vector):\n",
    "    min_ind = 1000000\n",
    "    min_ed = 1000000\n",
    "    for i in range(((matrix.T).shape)[0]):\n",
    "        euc_dist = euclideanDistance(vector, (matrix.T)[i]) \n",
    "        if(euc_dist < min_ed):\n",
    "            min_ed = euc_dist\n",
    "            min_ind = i\n",
    "    return min_ind\n",
    "\n",
    "def leastEucDistN(matrix, vector, N):\n",
    "    min_ind = 1000000\n",
    "    min_ed = 1000000\n",
    "    l = []\n",
    "    for i in range(((matrix.T).shape)[0]):\n",
    "        euc_dist = euclideanDistance(vector, (matrix.T)[i]) \n",
    "        l.append([euc_dist, i])\n",
    "    l = sorted(l)\n",
    "    min_ind_list = []\n",
    "    for i in range(N):\n",
    "        min_ind_list.append(l[i][1])\n",
    "#     print (min_ind_list)\n",
    "    return min_ind_list"
   ]
  },
  {
   "cell_type": "code",
   "execution_count": 374,
   "metadata": {
    "colab": {},
    "colab_type": "code",
    "id": "NESPO6TSS6j4"
   },
   "outputs": [],
   "source": [
    "def PCA_prediction(X_train, y_train, X_test, E):\n",
    "#     train_eigenVect, train_eigenCoeff = PCAfamilyCoeff(X_train)\n",
    "#     test_eigenVect, test_eigenCoeff = PCAfamilyCoeff(X_test)\n",
    "    eigenVect_train = E\n",
    "    X_train = flattenData(X_train)\n",
    "    X_test = flattenData(X_test)\n",
    "    print('X_train: ', X_train.shape)\n",
    "    train_eigenCoeff = eigenWeights(eigenVect_train, X_train)\n",
    "    print('Eigen Coeff train shape: ', train_eigenCoeff.shape)\n",
    "    test_eigenCoeff = eigenWeights(eigenVect_train, X_test)\n",
    "    print('Eigen Coeff test shape: ', test_eigenCoeff.shape)\n",
    "    predictions = []\n",
    "    for test_col in test_eigenCoeff.T:\n",
    "        predictions.append(y_train[leastEucDist(train_eigenCoeff, test_col)])\n",
    "    return predictions\n",
    "\n",
    "def PCA_predictionN(X_train, y_train, X_test, E, N):\n",
    "#     train_eigenVect, train_eigenCoeff = PCAfamilyCoeff(X_train)\n",
    "#     test_eigenVect, test_eigenCoeff = PCAfamilyCoeff(X_test)\n",
    "    eigenVect_train = E\n",
    "    X_train = flattenData(X_train)\n",
    "    X_test = flattenData(X_test)\n",
    "#     print('X_train: ', X_train.shape)\n",
    "    train_eigenCoeff = eigenWeights(eigenVect_train, X_train)\n",
    "#     print('Eigen Coeff train shape: ', train_eigenCoeff.shape)\n",
    "    test_eigenCoeff = eigenWeights(eigenVect_train, X_test)\n",
    "#     print('Eigen Coeff test shape: ', test_eigenCoeff.shape)\n",
    "    predictions = []\n",
    "    for test_col in test_eigenCoeff.T:\n",
    "        l1 = leastEucDistN(train_eigenCoeff, test_col, N)\n",
    "        l2 = []\n",
    "        for i in range(len(l1)):\n",
    "            l2.append(y_train[l1[i]])\n",
    "        predictions.append(l2)\n",
    "    return predictions"
   ]
  },
  {
   "cell_type": "code",
   "execution_count": 376,
   "metadata": {
    "colab": {},
    "colab_type": "code",
    "id": "D2pjDNIQS6j9"
   },
   "outputs": [],
   "source": [
    "def PCA_accuracy(predictions, y_test):\n",
    "    count = 0\n",
    "    len_y_test = len(y_test)\n",
    "    if (len(predictions) != len(y_test)):\n",
    "        print(\"Error...Mismatch in Lenghts!\")\n",
    "    len_y_test = len_y_test - 1\n",
    "    for i in range(len(predictions)):\n",
    "        if (predictions[i] == y_test[i]):\n",
    "            count += 1\n",
    "    print(\"PCA implementation Accuracy: \", (count/len_y_test)*100)\n",
    "\n",
    "def PCA_accuracyN(predictions, y_test, N):\n",
    "    count = 0\n",
    "    len_y_test = len(y_test)\n",
    "    if (len(predictions) != len(y_test)):\n",
    "        print(\"Error...Mismatch in Lenghts!\")\n",
    "    len_y_test = len_y_test - 1\n",
    "    for i in range(len(y_test)):\n",
    "        if ((y_test[i]) in predictions[i]):\n",
    "            count += 1\n",
    "    print(\"PCA implementation top-\", N, \"Accuracy: \", (count/len_y_test)*100)"
   ]
  },
  {
   "cell_type": "code",
   "execution_count": 361,
   "metadata": {
    "colab": {},
    "colab_type": "code",
    "id": "MdGxY8UJS6kF"
   },
   "outputs": [],
   "source": [
    "def Example(index, predictions, y_test, unique_labels):\n",
    "    plt.imshow(X_test[index], cmap = 'gray')\n",
    "    plt.show()\n",
    "    print(\"Prediction made by Model: \", unique_labels[predictions[index]])\n",
    "    print(\"Ground Truth: \", unique_labels[y_test[index]])"
   ]
  },
  {
   "cell_type": "code",
   "execution_count": 301,
   "metadata": {
    "colab": {},
    "colab_type": "code",
    "id": "FUlbGbNuS6kJ"
   },
   "outputs": [],
   "source": [
    "faces, labels, unique_labels, enc_labels = loadDataLabels(\"./Dataset\")\n",
    "(X_train, X_test, y_train, y_test) = train_test_split(faces, enc_labels, test_size = 0.25, random_state = 42)"
   ]
  },
  {
   "cell_type": "code",
   "execution_count": 302,
   "metadata": {
    "colab": {},
    "colab_type": "code",
    "id": "a_G4OkNHS6kV"
   },
   "outputs": [
    {
     "name": "stdout",
     "output_type": "stream",
     "text": [
      "mean shape:  (4096,)\n",
      "X shape:  (4096, 436)\n",
      "C shape:  (4096, 4096)\n",
      "E shape:  (4096, 4096)\n"
     ]
    }
   ],
   "source": [
    "eigenVect = PCAfamilyEigen(X_train)"
   ]
  },
  {
   "cell_type": "code",
   "execution_count": 327,
   "metadata": {},
   "outputs": [
    {
     "name": "stdout",
     "output_type": "stream",
     "text": [
      "[[0.02871573 0.02343776 0.02310638 ... 0.02864247 0.02867449 0.03126216]\n",
      " [0.02532669 0.01933042 0.0160472  ... 0.02841387 0.02850081 0.03293257]\n",
      " [0.02134405 0.01592975 0.01395194 ... 0.0261762  0.03129166 0.03469948]\n",
      " ...\n",
      " [0.02131094 0.02229285 0.02187582 ... 0.03411163 0.03401644 0.03261166]\n",
      " [0.02179704 0.02268137 0.02381395 ... 0.03444198 0.0313317  0.0338204 ]\n",
      " [0.02484565 0.02523056 0.02254684 ... 0.03289894 0.03122523 0.03344911]]\n"
     ]
    },
    {
     "data": {
      "image/png": "[encoded data removed]",
      "text/plain": [
       "<Figure size 432x288 with 1 Axes>"
      ]
     },
     "metadata": {},
     "output_type": "display_data"
    }
   ],
   "source": [
    "drawEigenFaces(eigenVect, 6)"
   ]
  },
  {
   "cell_type": "code",
   "execution_count": 304,
   "metadata": {},
   "outputs": [
    {
     "name": "stdout",
     "output_type": "stream",
     "text": [
      "X_train:  (4096, 436)\n",
      "Eigen Coeff train shape:  (4096, 436)\n",
      "Eigen Coeff test shape:  (4096, 146)\n"
     ]
    }
   ],
   "source": [
    "predictions = PCA_prediction(X_train, y_train, X_test, eigenVect)"
   ]
  },
  {
   "cell_type": "code",
   "execution_count": 305,
   "metadata": {},
   "outputs": [],
   "source": [
    "# print(predictions)\n",
    "# print(y_test)"
   ]
  },
  {
   "cell_type": "code",
   "execution_count": 331,
   "metadata": {},
   "outputs": [
    {
     "name": "stdout",
     "output_type": "stream",
     "text": [
      "PCA implementation Accuracy:  70.34482758620689\n"
     ]
    },
    {
     "data": {
      "image/png": "[encoded data removed]",
      "text/plain": [
       "<Figure size 432x288 with 1 Axes>"
      ]
     },
     "metadata": {},
     "output_type": "display_data"
    },
    {
     "name": "stdout",
     "output_type": "stream",
     "text": [
      "Prediction made by Model:  Vivek\n",
      "Ground Truth:  Vivek\n"
     ]
    }
   ],
   "source": [
    "PCA_accuracy(predictions, y_test)\n",
    "Example(100, predictions, y_test, unique_labels)"
   ]
  },
  {
   "cell_type": "code",
   "execution_count": 377,
   "metadata": {},
   "outputs": [
    {
     "name": "stdout",
     "output_type": "stream",
     "text": [
      "PCA implementation top- 1 Accuracy:  70.34482758620689\n",
      "PCA implementation top- 3 Accuracy:  75.86206896551724\n",
      "PCA implementation top- 10 Accuracy:  85.51724137931035\n"
     ]
    }
   ],
   "source": [
    "predictions_top1 = PCA_predictionN(X_train, y_train, X_test, eigenVect, 1)\n",
    "PCA_accuracyN(predictions_top1, y_test, 1)\n",
    "predictions_top3 = PCA_predictionN(X_train, y_train, X_test, eigenVect, 3)\n",
    "PCA_accuracyN(predictions_top3, y_test, 3)\n",
    "predictions_top10 = PCA_predictionN(X_train, y_train, X_test, eigenVect, 10)\n",
    "PCA_accuracyN(predictions_top10, y_test, 10)"
   ]
  }
 ],
 "metadata": {
  "colab": {
   "name": "PCA_scratchFR.ipynb",
   "provenance": [],
   "version": "0.3.2"
  },
  "kernelspec": {
   "display_name": "Python 3",
   "language": "python",
   "name": "python3"
  },
  "language_info": {
   "codemirror_mode": {
    "name": "ipython",
    "version": 3
   },
   "file_extension": ".py",
   "mimetype": "text/x-python",
   "name": "python",
   "nbconvert_exporter": "python",
   "pygments_lexer": "ipython3",
   "version": "3.7.0"
  }
 },
 "nbformat": 4,
 "nbformat_minor": 1
}
