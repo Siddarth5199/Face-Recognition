{
 "cells": [
  {
   "cell_type": "code",
   "execution_count": 29,
   "metadata": {},
   "outputs": [],
   "source": [
    "import cv2\n",
    "import numpy as np\n",
    "from matplotlib import pyplot as plt\n",
    "import glob\n",
    "import os\n",
    "from sklearn import preprocessing \n",
    "from sklearn.model_selection import train_test_split\n",
    "from numpy import linalg"
   ]
  },
  {
   "cell_type": "code",
   "execution_count": 68,
   "metadata": {},
   "outputs": [],
   "source": [
    "def mean(Xtrain):\n",
    "    mean = [0] * Xtrain.shape[0]\n",
    "#     mean = np.array(mean)\n",
    "    for col in Xtrain.T:\n",
    "        mean = mean + col\n",
    "    N = Xtrain.shape[1]\n",
    "    mean = mean/N"
   ]
  },
  {
   "cell_type": "code",
   "execution_count": 69,
   "metadata": {},
   "outputs": [],
   "source": [
    "# a = [0] * 10\n",
    "# a = np.array(a)\n",
    "# X = np.arange(8)\n",
    "# print((a.T).shape)"
   ]
  },
  {
   "cell_type": "code",
   "execution_count": 70,
   "metadata": {},
   "outputs": [],
   "source": [
    "def X(Xtrain, mean):\n",
    "    Xdef = []\n",
    "    for col in Xtrain.T:\n",
    "        Xdef.append(col - mean)\n",
    "    Xdef = np.array(Xdef)\n",
    "    return Xdef.T"
   ]
  },
  {
   "cell_type": "code",
   "execution_count": 71,
   "metadata": {},
   "outputs": [],
   "source": [
    "def covMat(X):\n",
    "    C = np.matmul(X, X.T)\n",
    "    return C"
   ]
  },
  {
   "cell_type": "code",
   "execution_count": 72,
   "metadata": {},
   "outputs": [],
   "source": [
    "def eigenVectors(C):\n",
    "    eiVal, eigVect = linalg.eig(C)\n",
    "    return eigVect"
   ]
  },
  {
   "cell_type": "code",
   "execution_count": 73,
   "metadata": {},
   "outputs": [],
   "source": [
    "def eigenWeights(E, x):\n",
    "    weights = (E.T).dot(x)\n",
    "    return weights"
   ]
  },
  {
   "cell_type": "code",
   "execution_count": 33,
   "metadata": {},
   "outputs": [],
   "source": [
    "def face_detection(image):\n",
    "    image = cv2.cvtColor(image, cv2.COLOR_BGR2GRAY)\n",
    "    cascade_image = cv2.CascadeClassifier('FaceDetHaarXML/haarcascade_frontalface_alt.xml')\n",
    "    faces = cascade_image.detectMultiScale(image, scaleFactor = 1.3, minNeighbors = 5)\n",
    "    if (len(faces) == 0):\n",
    "        return None, None\n",
    "    (x, y, l, b) = faces[0]\n",
    "    return image[y:y+b, x:x+l], faces[0]"
   ]
  },
  {
   "cell_type": "code",
   "execution_count": 37,
   "metadata": {},
   "outputs": [],
   "source": [
    "def loadDataLabels(data_path):\n",
    "    faces = []\n",
    "    labels = []\n",
    "    enc_labels = []\n",
    "    directories = os.listdir(data_path)\n",
    "    for i, direc in enumerate(directories):\n",
    "        sub_dir_path = data_path + \"/\" + direc\n",
    "        sub_dir_images = os.listdir(sub_dir_path)\n",
    "        label = direc\n",
    "        for j, image_name in enumerate(sub_dir_images):\n",
    "            image_path = sub_dir_path + \"/\" + image_name\n",
    "            img = cv2.imread(image_path)\n",
    "#             image = cv2.cvtColor(img, cv2.COLOR_BGR2GRAY)\n",
    "            face_detected, shape = face_detection(img)\n",
    "            if face_detected is not None:\n",
    "                face_detected = cv2.resize(face_detected, (256, 256))\n",
    "                faces.append(face_detected)\n",
    "                labels.append(label)\n",
    "#                 enc_labels.appen(c)\n",
    "#             if image is not None:\n",
    "#                 image = cv2.resize(image, (256, 256))\n",
    "#                 faces.append(image)\n",
    "#                 labels.append(label)\n",
    "    labels = np.array(labels)\n",
    "    label_encoder = preprocessing.LabelEncoder()\n",
    "    enc_labels = label_encoder.fit_transform(labels) \n",
    "    labels_unique = label_encoder.classes_\n",
    "    faces = np.array(faces)\n",
    "    labels_unique = np.array(labels_unique)\n",
    "    enc_labels = np.array(enc_labels)\n",
    "    return faces, labels, labels_unique, enc_labels"
   ]
  },
  {
   "cell_type": "code",
   "execution_count": 38,
   "metadata": {},
   "outputs": [],
   "source": [
    "faces, labels, unique_labels, enc_labels = loadDataLabels(\"./Dataset\")\n",
    "(X_train, X_test, y_train, y_test) = train_test_split(faces, enc_labels, test_size=0.25, random_state=42)"
   ]
  },
  {
   "cell_type": "code",
   "execution_count": null,
   "metadata": {},
   "outputs": [],
   "source": [
    "def eigenCoeff(X_img):\n",
    "    mean = mean(X_img)\n",
    "    X = X(X_img, mean)\n",
    "    C = covMat(X)\n",
    "    E = eigenVectors(C)\n",
    "    weightMatrix = eigenWeights(E, (X_data.T)[0])\n",
    "    for i in range(1, (X_img.T).shape[0]):\n",
    "        weightMatrix = np.vstack(weightMatrix, eigenWeights(E, x_col))\n",
    "    return weightMatrix"
   ]
  },
  {
   "cell_type": "code",
   "execution_count": null,
   "metadata": {},
   "outputs": [],
   "source": [
    "def familyCoeff(X_train):\n",
    "    bundle = []\n",
    "    for image in X_train:\n",
    "        "
   ]
  },
  {
   "cell_type": "code",
   "execution_count": 121,
   "metadata": {},
   "outputs": [
    {
     "name": "stdout",
     "output_type": "stream",
     "text": [
      "None\n"
     ]
    }
   ],
   "source": [
    "a = np.arange(9).reshape(3, 3)\n",
    "b = (np.arange(9).reshape(3, 3))\n",
    "# a = np.append(a, b, axis = 1)\n",
    "a = a.tolist()\n",
    "b = b.tolist()\n",
    "c = []\n",
    "print(c.append(b))\n",
    "# print(a.shape)"
   ]
  }
 ],
 "metadata": {
  "kernelspec": {
   "display_name": "Python 2",
   "language": "python",
   "name": "python2"
  },
  "language_info": {
   "codemirror_mode": {
    "name": "ipython",
    "version": 3
   },
   "file_extension": ".py",
   "mimetype": "text/x-python",
   "name": "python",
   "nbconvert_exporter": "python",
   "pygments_lexer": "ipython3",
   "version": "3.6.8"
  }
 },
 "nbformat": 4,
 "nbformat_minor": 2
}
