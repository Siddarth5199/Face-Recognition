{
  "nbformat": 4,
  "nbformat_minor": 0,
  "metadata": {
    "colab": {
      "name": "PCA_scratchFR.ipynb",
      "version": "0.3.2",
      "provenance": []
    },
    "kernelspec": {
      "display_name": "Python 3",
      "language": "python",
      "name": "python3"
    }
  },
  "cells": [
    {
      "metadata": {
        "id": "SKRXKtDGS6iM",
        "colab_type": "code",
        "colab": {}
      },
      "cell_type": "code",
      "source": [
        "import cv2\n",
        "import numpy as np\n",
        "from matplotlib import pyplot as plt\n",
        "import glob\n",
        "import os\n",
        "from sklearn import preprocessing \n",
        "from sklearn.model_selection import train_test_split\n",
        "from numpy import linalg\n",
        "from google.colab import drive"
      ],
      "execution_count": 0,
      "outputs": []
    },
    {
      "metadata": {
        "id": "VCa2SZhsXwI8",
        "colab_type": "code",
        "colab": {
          "base_uri": "https://localhost:8080/",
          "height": 34
        },
        "outputId": "a7b469a4-cdd2-465a-a7e1-3be493ce6816"
      },
      "cell_type": "code",
      "source": [
        "drive.mount('/content/drive/')"
      ],
      "execution_count": 2,
      "outputs": [
        {
          "output_type": "stream",
          "text": [
            "Drive already mounted at /content/drive/; to attempt to forcibly remount, call drive.mount(\"/content/drive/\", force_remount=True).\n"
          ],
          "name": "stdout"
        }
      ]
    },
    {
      "metadata": {
        "id": "72YGbrkFS6iZ",
        "colab_type": "code",
        "colab": {}
      },
      "cell_type": "code",
      "source": [
        "def mean(Xtrain):\n",
        "    return np.mean(Xtrain,axis = 1)\n",
        "#     mean = [0] * Xtrain.shape[0]\n",
        "#     mean = np.array(mean)\n",
        "#     for col in Xtrain.T:\n",
        "#         mean = mean + col\n",
        "#     N = Xtrain.shape[1]\n",
        "#     mean = mean/N\n",
        "#     return mean"
      ],
      "execution_count": 0,
      "outputs": []
    },
    {
      "metadata": {
        "id": "zwM6qWlRS6if",
        "colab_type": "code",
        "colab": {}
      },
      "cell_type": "code",
      "source": [
        "# a = [0] * 10\n",
        "# a = np.array(a)\n",
        "# X = np.arange(8)\n",
        "# print((a.T).shape)"
      ],
      "execution_count": 0,
      "outputs": []
    },
    {
      "metadata": {
        "id": "-yLK4fUjS6in",
        "colab_type": "code",
        "colab": {}
      },
      "cell_type": "code",
      "source": [
        "def X(Xtrain, mean):\n",
        "    Xdef = []\n",
        "    for col in Xtrain.T:\n",
        "        Xdef.append(col - mean)\n",
        "    Xdef = np.array(Xdef)\n",
        "    return Xdef.T"
      ],
      "execution_count": 0,
      "outputs": []
    },
    {
      "metadata": {
        "id": "DLWtgXsRS6it",
        "colab_type": "code",
        "colab": {}
      },
      "cell_type": "code",
      "source": [
        "def covMat(X):\n",
        "#     C1 = np.dot(X, X.T)\n",
        "    C2 = np.cov(X)\n",
        "    return C2"
      ],
      "execution_count": 0,
      "outputs": []
    },
    {
      "metadata": {
        "id": "DPjaD60SS6iy",
        "colab_type": "code",
        "colab": {}
      },
      "cell_type": "code",
      "source": [
        "def eigenVectors(X, C):\n",
        "    eigVal1, eigVect1 = linalg.eig(C)\n",
        "    return eigVect1\n",
        "# def eigenVectors(X, C):\n",
        "#     eigVal2, eigVect2 = linalg.eig(C)\n",
        "#     print(\"EigVect2: \", eigVect2.shape)\n",
        "#     eigVect1 = np.matmul(X, eigVect2)\n",
        "#     print(\"EigVect1: \", eigVect1.shape)\n",
        "#     for i in range(0, ((eigVect1.T).shape)[0]):\n",
        "#         (eigVect1.T)[i] = ((eigVect1.T)[i])/eigVal2[i]\n",
        "#     return eigVect1"
      ],
      "execution_count": 0,
      "outputs": []
    },
    {
      "metadata": {
        "id": "wHW-qkT_S6i3",
        "colab_type": "code",
        "colab": {}
      },
      "cell_type": "code",
      "source": [
        "def eigenWeights(E, x):\n",
        "    weights = (E.T).dot(x)\n",
        "    return weights"
      ],
      "execution_count": 0,
      "outputs": []
    },
    {
      "metadata": {
        "id": "5Lt3U2JjS6i-",
        "colab_type": "code",
        "colab": {}
      },
      "cell_type": "code",
      "source": [
        "def face_detection(image):\n",
        "    image = cv2.cvtColor(image, cv2.COLOR_BGR2GRAY)\n",
        "    cascade_image = cv2.CascadeClassifier('/haarcascade_frontalface_alt.xml')\n",
        "    faces = cascade_image.detectMultiScale(image, scaleFactor = 1.3, minNeighbors = 5)\n",
        "    if (len(faces) == 0):\n",
        "        return None, None\n",
        "    (x, y, l, b) = faces[0]\n",
        "    return image[y:y+b, x:x+l], faces[0]"
      ],
      "execution_count": 0,
      "outputs": []
    },
    {
      "metadata": {
        "id": "rhI-0VzyS6jE",
        "colab_type": "code",
        "colab": {}
      },
      "cell_type": "code",
      "source": [
        "def loadDataLabels(data_path):\n",
        "    faces = []\n",
        "    labels = []\n",
        "    enc_labels = []\n",
        "    directories = os.listdir(data_path)\n",
        "    for i, direc in enumerate(directories):\n",
        "        sub_dir_path = data_path + \"/\" + direc\n",
        "        sub_dir_images = os.listdir(sub_dir_path)\n",
        "        label = direc\n",
        "        for j, image_name in enumerate(sub_dir_images):\n",
        "            image_path = sub_dir_path + \"/\" + image_name\n",
        "            img = cv2.imread(image_path)\n",
        "#             image = cv2.cvtColor(img, cv2.COLOR_BGR2GRAY)\n",
        "            face_detected, shape = face_detection(img)\n",
        "            if face_detected is not None:\n",
        "                face_detected = cv2.resize(face_detected, (256, 256))\n",
        "                faces.append(face_detected)\n",
        "                labels.append(label)\n",
        "#                 enc_labels.appen(c)\n",
        "#             if image is not None:\n",
        "#                 image = cv2.resize(image, (256, 256))\n",
        "#                 faces.append(image)\n",
        "#                 labels.append(label)\n",
        "    labels = np.array(labels)\n",
        "    label_encoder = preprocessing.LabelEncoder()\n",
        "    enc_labels = label_encoder.fit_transform(labels) \n",
        "    labels_unique = label_encoder.classes_\n",
        "    faces = np.array(faces)\n",
        "    labels_unique = np.array(labels_unique)\n",
        "    enc_labels = np.array(enc_labels)\n",
        "    return faces, labels, labels_unique, enc_labels"
      ],
      "execution_count": 0,
      "outputs": []
    },
    {
      "metadata": {
        "id": "m7k6OMWkS6jP",
        "colab_type": "code",
        "colab": {}
      },
      "cell_type": "code",
      "source": [
        "def weightMatrix(X_data):\n",
        "#     print('X_data: ', X_data)\n",
        "    print ('X_data shape: ', X_data.shape)\n",
        "    mean_ = mean(X_data)\n",
        "#     print('mean: ', mean_)\n",
        "    print ('mean shape: ', mean_.shape)\n",
        "    X_ = X(X_data, mean_)\n",
        "#     print('X: ', X_)\n",
        "    print ('X shape: ', X_.shape)\n",
        "    C = covMat(X_)\n",
        "#     print('C: ', C)\n",
        "    print ('C shape: ', C.shape)\n",
        "#     E = eigenVectors(X_)\n",
        "    E = eigenVectors(X_, C)\n",
        "#     print('E: ', E)\n",
        "    print ('E shape: ', E.shape)\n",
        "#     weightMatrix = eigenWeights(E, (X_data.T)[0])\n",
        "#     for i in range(1, (X_data.T).shape[0]):\n",
        "# #     for x_col in (X_data.T):\n",
        "#         weightMatrix = np.vstack((weightMatrix, eigenWeights(E, ((X_data.T)[i]))))\n",
        "    weightMatrix = np.matmul(E.T, X_data)\n",
        "#     weightMatrix = eigenWeights(E, (X_data.T)[index])\n",
        "#     print('wtMat: ', weightMatrix)\n",
        "    print ('wtMat shape: ', weightMatrix.shape)\n",
        "    return E, weightMatrix"
      ],
      "execution_count": 0,
      "outputs": []
    },
    {
      "metadata": {
        "id": "3WbrYp1fS6ja",
        "colab_type": "code",
        "colab": {}
      },
      "cell_type": "code",
      "source": [
        "def flattenData(X):\n",
        "    X_data = []\n",
        "    for image in X:\n",
        "        X_data.append(image.flatten())\n",
        "    X_data = np.array(X_data)\n",
        "    return X_data.T"
      ],
      "execution_count": 0,
      "outputs": []
    },
    {
      "metadata": {
        "id": "WS_HiMcFS6ji",
        "colab_type": "code",
        "colab": {}
      },
      "cell_type": "code",
      "source": [
        "def PCAfamilyCoeff(X_train):\n",
        "    X_data = flattenData(X_train)\n",
        "    eigenVect, eigenCoeff = weightMatrix(X_data)\n",
        "    return eigenVect, eigenCoeff"
      ],
      "execution_count": 0,
      "outputs": []
    },
    {
      "metadata": {
        "id": "7FXp1BcmS6jo",
        "colab_type": "code",
        "colab": {}
      },
      "cell_type": "code",
      "source": [
        "def drawEigenFaces(eigenVect, index):\n",
        "    eigenFace = ((eigenVect.T)[index]).reshape(256, 256)\n",
        "    plt.imshow(eigenFace)\n",
        "    plt.show()"
      ],
      "execution_count": 0,
      "outputs": []
    },
    {
      "metadata": {
        "id": "MvuHwJ1mS6ju",
        "colab_type": "code",
        "colab": {}
      },
      "cell_type": "code",
      "source": [
        "def euclideanDistance(vector1, vector2):\n",
        "    return np.linalg.norm(vector1 - vector2)"
      ],
      "execution_count": 0,
      "outputs": []
    },
    {
      "metadata": {
        "id": "q8qEdsXtS6jz",
        "colab_type": "code",
        "colab": {}
      },
      "cell_type": "code",
      "source": [
        "def leastEucDist(matrix, vector):\n",
        "    max_ind = -1\n",
        "    max_ed = -1\n",
        "    for i, col in enumerate(((matrix.T).shape)[0]):\n",
        "        euc_dist = euclideanDistance(vector, col) \n",
        "        if(max_ed < euc_dist):\n",
        "            max_ed = euc_dist\n",
        "            max_ind = i\n",
        "    return max_ind"
      ],
      "execution_count": 0,
      "outputs": []
    },
    {
      "metadata": {
        "id": "NESPO6TSS6j4",
        "colab_type": "code",
        "colab": {}
      },
      "cell_type": "code",
      "source": [
        "def PCA_prediction(X_train, y_train, X_test):\n",
        "    train_eigenVect, train_eigenCoeff = PCAfamilyCoeff(X_train)\n",
        "    test_eigenVect, test_eigenCoeff = PCAfamilyCoeff(X_test)\n",
        "    predictions = []\n",
        "    for test_col in test_eigenCoeff.T:\n",
        "        predictions.append(leastEucDist(train_eigenCoeff, test_col))\n",
        "    return predictions"
      ],
      "execution_count": 0,
      "outputs": []
    },
    {
      "metadata": {
        "id": "D2pjDNIQS6j9",
        "colab_type": "code",
        "colab": {}
      },
      "cell_type": "code",
      "source": [
        "def PCA_accuracy(predictions, y_test):\n",
        "    count = 0\n",
        "    if (len(predictions) != len(y_test)):\n",
        "        print(\"Error...Mismatch in Lenghts!\")\n",
        "    for i in range(len(predictions)):\n",
        "        if (predictions[i] == y_test[i]):\n",
        "            count += 1\n",
        "    print(\"PCA implementation Accuracy: \", (count/len(predictions))*100)"
      ],
      "execution_count": 0,
      "outputs": []
    },
    {
      "metadata": {
        "id": "MdGxY8UJS6kF",
        "colab_type": "code",
        "colab": {}
      },
      "cell_type": "code",
      "source": [
        "def Example(index, predictions, y_test, unique_labels):\n",
        "    plt.imshow(X_test[index])\n",
        "    plt.show()\n",
        "    print(\"Prediction made by Model: \", unique_labels[predictions[index]])\n",
        "    print(\"Ground Truth: \", unique_labels[y_test])"
      ],
      "execution_count": 0,
      "outputs": []
    },
    {
      "metadata": {
        "id": "FUlbGbNuS6kJ",
        "colab_type": "code",
        "colab": {}
      },
      "cell_type": "code",
      "source": [
        "faces, labels, unique_labels, enc_labels = loadDataLabels(\"/content/drive/My Drive/SampleVRdata\")\n",
        "(X_train, X_test, y_train, y_test) = train_test_split(faces, enc_labels, test_size = 0.25, random_state = 42)"
      ],
      "execution_count": 0,
      "outputs": []
    },
    {
      "metadata": {
        "id": "a_G4OkNHS6kV",
        "colab_type": "code",
        "colab": {}
      },
      "cell_type": "code",
      "source": [
        "eigenVect, eigenCoeff = PCAfamilyCoeff(X_train)\n",
        "drawEigenFaces(eigenVect, 10)"
      ],
      "execution_count": 0,
      "outputs": []
    },
    {
      "metadata": {
        "id": "BU_Fj5TqS6kg",
        "colab_type": "code",
        "colab": {}
      },
      "cell_type": "code",
      "source": [
        "predictions = PCA_prediction(X_train, y_train, X_test)\n",
        "PCA_accuracy(predictions, y_test)\n",
        "Example(100, predictions, y_test, unique_labels)"
      ],
      "execution_count": 0,
      "outputs": []
    },
    {
      "metadata": {
        "id": "hFel14AiS6ky",
        "colab_type": "code",
        "colab": {}
      },
      "cell_type": "code",
      "source": [
        "mean_ = mean(X_train)\n",
        "# X(X_train, mean_)\n",
        "print(mean_)"
      ],
      "execution_count": 0,
      "outputs": []
    },
    {
      "metadata": {
        "id": "uj3LTwxYS6k3",
        "colab_type": "code",
        "colab": {}
      },
      "cell_type": "code",
      "source": [
        "a = np.random.randn(9, 6) + 1j*np.random.randn(9, 6)\n",
        "print(a.shape)\n",
        "u, s, vh = np.linalg.svd(a, full_matrices=True)\n",
        "print(X_train[30])    "
      ],
      "execution_count": 0,
      "outputs": []
    },
    {
      "metadata": {
        "id": "aFoQEVobS6k9",
        "colab_type": "code",
        "colab": {}
      },
      "cell_type": "code",
      "source": [
        "PCAfamilyCoeff([X_train[0], X_train[30]])"
      ],
      "execution_count": 0,
      "outputs": []
    },
    {
      "metadata": {
        "id": "lJ37wnupS6lE",
        "colab_type": "code",
        "colab": {}
      },
      "cell_type": "code",
      "source": [
        "exd = flattenData(X_train)\n",
        "mean1 = mean(exd)\n",
        "X1 = X(exd, mean1)\n",
        "print(X1.shape)\n",
        "print(X1)"
      ],
      "execution_count": 0,
      "outputs": []
    },
    {
      "metadata": {
        "id": "n5FhBPHFiR-C",
        "colab_type": "code",
        "colab": {}
      },
      "cell_type": "code",
      "source": [
        "C1 = covMat(X1)\n",
        "# print(C1)\n",
        "E1 = eigenVectors(X1, C1)\n",
        "# print(E1)"
      ],
      "execution_count": 0,
      "outputs": []
    },
    {
      "metadata": {
        "id": "xFDZUW0OkJt9",
        "colab_type": "code",
        "colab": {}
      },
      "cell_type": "code",
      "source": [
        "drawEigenFaces(E1, 10)"
      ],
      "execution_count": 0,
      "outputs": []
    }
  ]
}