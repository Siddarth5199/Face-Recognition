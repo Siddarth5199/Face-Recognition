{
 "cells": [
  {
   "cell_type": "code",
   "execution_count": 1,
   "metadata": {},
   "outputs": [],
   "source": [
    "import cv2\n",
    "import numpy as np\n",
    "from matplotlib import pyplot as plt\n",
    "import glob\n",
    "import os\n",
    "from sklearn import preprocessing \n",
    "from sklearn.model_selection import train_test_split\n",
    "from numpy import linalg"
   ]
  },
  {
   "cell_type": "code",
   "execution_count": 2,
   "metadata": {},
   "outputs": [],
   "source": [
    "def mean(Xtrain):\n",
    "    return np.mean(Xtrain,axis = 1)\n",
    "#     mean = [0] * Xtrain.shape[0]\n",
    "#     mean = np.array(mean)\n",
    "#     for col in Xtrain.T:\n",
    "#         mean = mean + col\n",
    "#     N = Xtrain.shape[1]\n",
    "#     mean = mean/N\n",
    "#     return mean"
   ]
  },
  {
   "cell_type": "code",
   "execution_count": 3,
   "metadata": {},
   "outputs": [],
   "source": [
    "# a = [0] * 10\n",
    "# a = np.array(a)\n",
    "# X = np.arange(8)\n",
    "# print((a.T).shape)"
   ]
  },
  {
   "cell_type": "code",
   "execution_count": 4,
   "metadata": {},
   "outputs": [],
   "source": [
    "def X(Xtrain, mean):\n",
    "    Xdef = []\n",
    "    for col in Xtrain.T:\n",
    "        Xdef.append(col - mean)\n",
    "    Xdef = np.array(Xdef)\n",
    "    return Xdef.T"
   ]
  },
  {
   "cell_type": "code",
   "execution_count": 71,
   "metadata": {},
   "outputs": [],
   "source": [
    "def covMat(X):\n",
    "    C1 = np.matmul(X, X.T)\n",
    "#     C2 = np.matmul(X.T, X)\n",
    "    return C1"
   ]
  },
  {
   "cell_type": "code",
   "execution_count": 70,
   "metadata": {},
   "outputs": [],
   "source": [
    "def eigenVectors(X):\n",
    "    u, s, vh = linalg.svd(X, full_matrices=True)\n",
    "    print('u: ', u)\n",
    "    print('s: ', s)\n",
    "    print('vh: ', vh)\n",
    "    return u\n",
    "def eigenVectors1(C):\n",
    "    eigVal2, eigVect2 = linalg.eig(C)\n",
    "    return eigVal2\n",
    "#     eigVal2, eigVect2 = linalg.eig(C)\n",
    "#     print(\"EigVect2: \", eigVect2.shape)\n",
    "#     eigVect1 = np.matmul(X, eigVect2)\n",
    "#     print(\"EigVect1: \", eigVect1.shape)\n",
    "#     for i in range(0, ((eigVect1.T).shape)[0]):\n",
    "#         (eigVect1.T)[i] = ((eigVect1.T)[i])/eigVal2[i]"
   ]
  },
  {
   "cell_type": "code",
   "execution_count": 7,
   "metadata": {},
   "outputs": [],
   "source": [
    "def eigenWeights(E, x):\n",
    "    weights = (E.T).dot(x)\n",
    "    return weights"
   ]
  },
  {
   "cell_type": "code",
   "execution_count": 8,
   "metadata": {},
   "outputs": [],
   "source": [
    "def face_detection(image):\n",
    "    image = cv2.cvtColor(image, cv2.COLOR_BGR2GRAY)\n",
    "    cascade_image = cv2.CascadeClassifier('FaceDetHaarXML/haarcascade_frontalface_alt.xml')\n",
    "    faces = cascade_image.detectMultiScale(image, scaleFactor = 1.3, minNeighbors = 5)\n",
    "    if (len(faces) == 0):\n",
    "        return None, None\n",
    "    (x, y, l, b) = faces[0]\n",
    "    return image[y:y+b, x:x+l], faces[0]"
   ]
  },
  {
   "cell_type": "code",
   "execution_count": 9,
   "metadata": {},
   "outputs": [],
   "source": [
    "def loadDataLabels(data_path):\n",
    "    faces = []\n",
    "    labels = []\n",
    "    enc_labels = []\n",
    "    directories = os.listdir(data_path)\n",
    "    for i, direc in enumerate(directories):\n",
    "        sub_dir_path = data_path + \"/\" + direc\n",
    "        sub_dir_images = os.listdir(sub_dir_path)\n",
    "        label = direc\n",
    "        for j, image_name in enumerate(sub_dir_images):\n",
    "            image_path = sub_dir_path + \"/\" + image_name\n",
    "            img = cv2.imread(image_path)\n",
    "#             image = cv2.cvtColor(img, cv2.COLOR_BGR2GRAY)\n",
    "            face_detected, shape = face_detection(img)\n",
    "            if face_detected is not None:\n",
    "                face_detected = cv2.resize(face_detected, (256, 256))\n",
    "                faces.append(face_detected)\n",
    "                labels.append(label)\n",
    "#                 enc_labels.appen(c)\n",
    "#             if image is not None:\n",
    "#                 image = cv2.resize(image, (256, 256))\n",
    "#                 faces.append(image)\n",
    "#                 labels.append(label)\n",
    "    labels = np.array(labels)\n",
    "    label_encoder = preprocessing.LabelEncoder()\n",
    "    enc_labels = label_encoder.fit_transform(labels) \n",
    "    labels_unique = label_encoder.classes_\n",
    "    faces = np.array(faces)\n",
    "    labels_unique = np.array(labels_unique)\n",
    "    enc_labels = np.array(enc_labels)\n",
    "    return faces, labels, labels_unique, enc_labels"
   ]
  },
  {
   "cell_type": "code",
   "execution_count": 77,
   "metadata": {},
   "outputs": [],
   "source": [
    "def weightMatrix(X_data):\n",
    "    print('X_data: ', X_data)\n",
    "    print ('X_data shape: ', X_data.shape)\n",
    "    mean_ = mean(X_data)\n",
    "    print('mean: ', mean_)\n",
    "    print ('mean shape: ', mean_.shape)\n",
    "    X_ = X(X_data, mean_)\n",
    "    print('X: ', X_)\n",
    "    print ('X shape: ', X_.shape)\n",
    "#     C = covMat(X_)\n",
    "#     print('C: ', C)\n",
    "#     print ('C shape: ', C.shape)\n",
    "    E = eigenVectors(X_)\n",
    "#     E = eigenVectors1(C)\n",
    "    print('E: ', E)\n",
    "    print ('E shape: ', E.shape)\n",
    "#     weightMatrix = eigenWeights(E, (X_data.T)[0])\n",
    "#     for i in range(1, (X_data.T).shape[0]):\n",
    "# #     for x_col in (X_data.T):\n",
    "#         weightMatrix = np.vstack((weightMatrix, eigenWeights(E, ((X_data.T)[i]))))\n",
    "    weightMatrix = np.matmul(E.T, X_data)\n",
    "    print('wtMat: ', weightMatrix)\n",
    "    print ('wtMat shape: ', weightMatrix.shape)\n",
    "    return weightMatrix"
   ]
  },
  {
   "cell_type": "code",
   "execution_count": 63,
   "metadata": {},
   "outputs": [],
   "source": [
    "def flattenData(X):\n",
    "    X_data = []\n",
    "    for image in X:\n",
    "        X_data.append(image.flatten())\n",
    "    X_data = np.array(X_data)\n",
    "    return X_data.T"
   ]
  },
  {
   "cell_type": "code",
   "execution_count": 58,
   "metadata": {},
   "outputs": [],
   "source": [
    "def PCAfamilyCoeff(X_train):\n",
    "    X_data = flattenData(X_train)\n",
    "    eigenCoeff = weightMatrix(X_data)\n",
    "    return eigenCoeff"
   ]
  },
  {
   "cell_type": "code",
   "execution_count": 12,
   "metadata": {},
   "outputs": [],
   "source": [
    "def drawEigenFaces(eigenCoeff, index):\n",
    "    eigenFace = ((eigenCoeff.T)[index]).reshape(256, 256)\n",
    "    plt.imshow(eigenFace)\n",
    "    plt.show()"
   ]
  },
  {
   "cell_type": "code",
   "execution_count": 13,
   "metadata": {},
   "outputs": [],
   "source": [
    "def euclideanDistance(vector1, vector2):\n",
    "    return np.linalg.norm(vector1 - vector2)"
   ]
  },
  {
   "cell_type": "code",
   "execution_count": 14,
   "metadata": {},
   "outputs": [],
   "source": [
    "def leastEucDist(matrix, vector):\n",
    "    max_ind = -1\n",
    "    max_ed = -1\n",
    "    for i, col in range(((matrix.T).shape)[0]):\n",
    "        euc_dist = euclideanDistance(vector, col) \n",
    "        if(max_ed < euc_dist):\n",
    "            max_ed = euc_dist\n",
    "            max_ind = i\n",
    "    return max_ind"
   ]
  },
  {
   "cell_type": "code",
   "execution_count": 15,
   "metadata": {},
   "outputs": [],
   "source": [
    "def PCA_prediction(X_train, y_train, X_test):\n",
    "    train_eigenCoeff = PCAfamilyCoeff(X_train)\n",
    "    test_eigenCoeff = PCAfamilyCoeff(X_test)\n",
    "    predictions = []\n",
    "    for test_col in test_eigenCoeff.T:\n",
    "        predictions.append(leastEucDist(train_eigenCoeff, test_col))\n",
    "    return predictions"
   ]
  },
  {
   "cell_type": "code",
   "execution_count": 16,
   "metadata": {},
   "outputs": [],
   "source": [
    "def PCA_accuracy(predictions, y_test):\n",
    "    count = 0\n",
    "    if (len(predictions) != len(y_test)):\n",
    "        print(\"Error...Mismatch in Lenghts!\")\n",
    "    for i in range(len(predictions)):\n",
    "        if (predictions[i] == y_test[i]):\n",
    "            count += 1\n",
    "    print(\"PCA implementation Accuracy: \", (count/len(predictions))*100)"
   ]
  },
  {
   "cell_type": "code",
   "execution_count": 17,
   "metadata": {},
   "outputs": [],
   "source": [
    "def Example(index, predictions, y_test, unique_labels):\n",
    "    plt.imshow(X_test[index])\n",
    "    plt.show()\n",
    "    print(\"Prediction made by Model: \", unique_labels[predictions[index]])\n",
    "    print(\"Ground Truth: \", unique_labels[y_test])"
   ]
  },
  {
   "cell_type": "code",
   "execution_count": 18,
   "metadata": {},
   "outputs": [],
   "source": [
    "faces, labels, unique_labels, enc_labels = loadDataLabels(\"./Dataset1\")\n",
    "(X_train, X_test, y_train, y_test) = train_test_split(faces, enc_labels, test_size = 0.25, random_state = 42)"
   ]
  },
  {
   "cell_type": "code",
   "execution_count": 69,
   "metadata": {},
   "outputs": [
    {
     "name": "stdout",
     "output_type": "stream",
     "text": [
      "X_data:  [[ 57 116  60 ...   9 114 188]\n",
      " [ 55 140  51 ...  10 111 172]\n",
      " [ 57 136  60 ...   8 117 172]\n",
      " ...\n",
      " [105 223  18 ...   7 201 179]\n",
      " [102 223  29 ...   6 201 180]\n",
      " [105 224  23 ...  10 201 187]]\n",
      "X_data shape:  (65536, 33)\n",
      "mean:  [100.63636364  99.57575758  97.12121212 ...  78.75757576  78.84848485\n",
      "  78.96969697]\n",
      "mean shape:  (65536,)\n",
      "X:  [[-43.63636364  15.36363636 -40.63636364 ... -91.63636364  13.36363636\n",
      "   87.36363636]\n",
      " [-44.57575758  40.42424242 -48.57575758 ... -89.57575758  11.42424242\n",
      "   72.42424242]\n",
      " [-40.12121212  38.87878788 -37.12121212 ... -89.12121212  19.87878788\n",
      "   74.87878788]\n",
      " ...\n",
      " [ 26.24242424 144.24242424 -60.75757576 ... -71.75757576 122.24242424\n",
      "  100.24242424]\n",
      " [ 23.15151515 144.15151515 -49.84848485 ... -72.84848485 122.15151515\n",
      "  101.15151515]\n",
      " [ 26.03030303 145.03030303 -55.96969697 ... -68.96969697 122.03030303\n",
      "  108.03030303]]\n",
      "X shape:  (65536, 33)\n"
     ]
    },
    {
     "ename": "MemoryError",
     "evalue": "",
     "output_type": "error",
     "traceback": [
      "\u001b[1;31m---------------------------------------------------------------------------\u001b[0m",
      "\u001b[1;31mMemoryError\u001b[0m                               Traceback (most recent call last)",
      "\u001b[1;32m<ipython-input-69-3076d8fb3085>\u001b[0m in \u001b[0;36m<module>\u001b[1;34m\u001b[0m\n\u001b[1;32m----> 1\u001b[1;33m \u001b[0meigenCoeff\u001b[0m \u001b[1;33m=\u001b[0m \u001b[0mPCAfamilyCoeff\u001b[0m\u001b[1;33m(\u001b[0m\u001b[0mX_train\u001b[0m\u001b[1;33m)\u001b[0m\u001b[1;33m\u001b[0m\u001b[1;33m\u001b[0m\u001b[0m\n\u001b[0m\u001b[0;32m      2\u001b[0m \u001b[1;31m# drawEigenFaces(eigenCoeff, 100)\u001b[0m\u001b[1;33m\u001b[0m\u001b[1;33m\u001b[0m\u001b[1;33m\u001b[0m\u001b[0m\n\u001b[0;32m      3\u001b[0m \u001b[1;31m# Example(100, predictions, y_test, unique_labels)\u001b[0m\u001b[1;33m\u001b[0m\u001b[1;33m\u001b[0m\u001b[1;33m\u001b[0m\u001b[0m\n",
      "\u001b[1;32m<ipython-input-58-89d615581209>\u001b[0m in \u001b[0;36mPCAfamilyCoeff\u001b[1;34m(X_train)\u001b[0m\n\u001b[0;32m      1\u001b[0m \u001b[1;32mdef\u001b[0m \u001b[0mPCAfamilyCoeff\u001b[0m\u001b[1;33m(\u001b[0m\u001b[0mX_train\u001b[0m\u001b[1;33m)\u001b[0m\u001b[1;33m:\u001b[0m\u001b[1;33m\u001b[0m\u001b[1;33m\u001b[0m\u001b[0m\n\u001b[0;32m      2\u001b[0m     \u001b[0mX_data\u001b[0m \u001b[1;33m=\u001b[0m \u001b[0mflattenData\u001b[0m\u001b[1;33m(\u001b[0m\u001b[0mX_train\u001b[0m\u001b[1;33m)\u001b[0m\u001b[1;33m\u001b[0m\u001b[1;33m\u001b[0m\u001b[0m\n\u001b[1;32m----> 3\u001b[1;33m     \u001b[0meigenCoeff\u001b[0m \u001b[1;33m=\u001b[0m \u001b[0mweightMatrix\u001b[0m\u001b[1;33m(\u001b[0m\u001b[0mX_data\u001b[0m\u001b[1;33m)\u001b[0m\u001b[1;33m\u001b[0m\u001b[1;33m\u001b[0m\u001b[0m\n\u001b[0m\u001b[0;32m      4\u001b[0m     \u001b[1;32mreturn\u001b[0m \u001b[0meigenCoeff\u001b[0m\u001b[1;33m\u001b[0m\u001b[1;33m\u001b[0m\u001b[0m\n",
      "\u001b[1;32m<ipython-input-53-7bb23fbbb761>\u001b[0m in \u001b[0;36mweightMatrix\u001b[1;34m(X_data)\u001b[0m\n\u001b[0;32m     10\u001b[0m \u001b[1;31m#     C = covMat(X_)\u001b[0m\u001b[1;33m\u001b[0m\u001b[1;33m\u001b[0m\u001b[1;33m\u001b[0m\u001b[0m\n\u001b[0;32m     11\u001b[0m \u001b[1;31m#     print (C.shape)\u001b[0m\u001b[1;33m\u001b[0m\u001b[1;33m\u001b[0m\u001b[1;33m\u001b[0m\u001b[0m\n\u001b[1;32m---> 12\u001b[1;33m     \u001b[0mE\u001b[0m \u001b[1;33m=\u001b[0m \u001b[0meigenVectors\u001b[0m\u001b[1;33m(\u001b[0m\u001b[0mX_\u001b[0m\u001b[1;33m)\u001b[0m\u001b[1;33m\u001b[0m\u001b[1;33m\u001b[0m\u001b[0m\n\u001b[0m\u001b[0;32m     13\u001b[0m     \u001b[0mprint\u001b[0m\u001b[1;33m(\u001b[0m\u001b[1;34m'E: '\u001b[0m\u001b[1;33m,\u001b[0m \u001b[0mE\u001b[0m\u001b[1;33m)\u001b[0m\u001b[1;33m\u001b[0m\u001b[1;33m\u001b[0m\u001b[0m\n\u001b[0;32m     14\u001b[0m     \u001b[0mprint\u001b[0m \u001b[1;33m(\u001b[0m\u001b[1;34m'E shape: '\u001b[0m\u001b[1;33m,\u001b[0m \u001b[0mE\u001b[0m\u001b[1;33m.\u001b[0m\u001b[0mshape\u001b[0m\u001b[1;33m)\u001b[0m\u001b[1;33m\u001b[0m\u001b[1;33m\u001b[0m\u001b[0m\n",
      "\u001b[1;32m<ipython-input-52-815ca4df6e59>\u001b[0m in \u001b[0;36meigenVectors\u001b[1;34m(X)\u001b[0m\n\u001b[0;32m      1\u001b[0m \u001b[1;32mdef\u001b[0m \u001b[0meigenVectors\u001b[0m\u001b[1;33m(\u001b[0m\u001b[0mX\u001b[0m\u001b[1;33m)\u001b[0m\u001b[1;33m:\u001b[0m\u001b[1;33m\u001b[0m\u001b[1;33m\u001b[0m\u001b[0m\n\u001b[1;32m----> 2\u001b[1;33m     \u001b[0mu\u001b[0m\u001b[1;33m,\u001b[0m \u001b[0ms\u001b[0m\u001b[1;33m,\u001b[0m \u001b[0mvh\u001b[0m \u001b[1;33m=\u001b[0m \u001b[0mlinalg\u001b[0m\u001b[1;33m.\u001b[0m\u001b[0msvd\u001b[0m\u001b[1;33m(\u001b[0m\u001b[0mX\u001b[0m\u001b[1;33m,\u001b[0m \u001b[0mfull_matrices\u001b[0m\u001b[1;33m=\u001b[0m\u001b[1;32mTrue\u001b[0m\u001b[1;33m)\u001b[0m\u001b[1;33m\u001b[0m\u001b[1;33m\u001b[0m\u001b[0m\n\u001b[0m\u001b[0;32m      3\u001b[0m     \u001b[0mprint\u001b[0m\u001b[1;33m(\u001b[0m\u001b[1;34m'u: '\u001b[0m\u001b[1;33m,\u001b[0m \u001b[0mu\u001b[0m\u001b[1;33m)\u001b[0m\u001b[1;33m\u001b[0m\u001b[1;33m\u001b[0m\u001b[0m\n\u001b[0;32m      4\u001b[0m     \u001b[0mprint\u001b[0m\u001b[1;33m(\u001b[0m\u001b[1;34m's: '\u001b[0m\u001b[1;33m,\u001b[0m \u001b[0ms\u001b[0m\u001b[1;33m)\u001b[0m\u001b[1;33m\u001b[0m\u001b[1;33m\u001b[0m\u001b[0m\n\u001b[0;32m      5\u001b[0m     \u001b[0mprint\u001b[0m\u001b[1;33m(\u001b[0m\u001b[1;34m'vh: '\u001b[0m\u001b[1;33m,\u001b[0m \u001b[0mvh\u001b[0m\u001b[1;33m)\u001b[0m\u001b[1;33m\u001b[0m\u001b[1;33m\u001b[0m\u001b[0m\n",
      "\u001b[1;32m~\\Miniconda3\\lib\\site-packages\\numpy\\linalg\\linalg.py\u001b[0m in \u001b[0;36msvd\u001b[1;34m(a, full_matrices, compute_uv)\u001b[0m\n\u001b[0;32m   1610\u001b[0m \u001b[1;33m\u001b[0m\u001b[0m\n\u001b[0;32m   1611\u001b[0m         \u001b[0msignature\u001b[0m \u001b[1;33m=\u001b[0m \u001b[1;34m'D->DdD'\u001b[0m \u001b[1;32mif\u001b[0m \u001b[0misComplexType\u001b[0m\u001b[1;33m(\u001b[0m\u001b[0mt\u001b[0m\u001b[1;33m)\u001b[0m \u001b[1;32melse\u001b[0m \u001b[1;34m'd->ddd'\u001b[0m\u001b[1;33m\u001b[0m\u001b[1;33m\u001b[0m\u001b[0m\n\u001b[1;32m-> 1612\u001b[1;33m         \u001b[0mu\u001b[0m\u001b[1;33m,\u001b[0m \u001b[0ms\u001b[0m\u001b[1;33m,\u001b[0m \u001b[0mvh\u001b[0m \u001b[1;33m=\u001b[0m \u001b[0mgufunc\u001b[0m\u001b[1;33m(\u001b[0m\u001b[0ma\u001b[0m\u001b[1;33m,\u001b[0m \u001b[0msignature\u001b[0m\u001b[1;33m=\u001b[0m\u001b[0msignature\u001b[0m\u001b[1;33m,\u001b[0m \u001b[0mextobj\u001b[0m\u001b[1;33m=\u001b[0m\u001b[0mextobj\u001b[0m\u001b[1;33m)\u001b[0m\u001b[1;33m\u001b[0m\u001b[1;33m\u001b[0m\u001b[0m\n\u001b[0m\u001b[0;32m   1613\u001b[0m         \u001b[0mu\u001b[0m \u001b[1;33m=\u001b[0m \u001b[0mu\u001b[0m\u001b[1;33m.\u001b[0m\u001b[0mastype\u001b[0m\u001b[1;33m(\u001b[0m\u001b[0mresult_t\u001b[0m\u001b[1;33m,\u001b[0m \u001b[0mcopy\u001b[0m\u001b[1;33m=\u001b[0m\u001b[1;32mFalse\u001b[0m\u001b[1;33m)\u001b[0m\u001b[1;33m\u001b[0m\u001b[1;33m\u001b[0m\u001b[0m\n\u001b[0;32m   1614\u001b[0m         \u001b[0ms\u001b[0m \u001b[1;33m=\u001b[0m \u001b[0ms\u001b[0m\u001b[1;33m.\u001b[0m\u001b[0mastype\u001b[0m\u001b[1;33m(\u001b[0m\u001b[0m_realType\u001b[0m\u001b[1;33m(\u001b[0m\u001b[0mresult_t\u001b[0m\u001b[1;33m)\u001b[0m\u001b[1;33m,\u001b[0m \u001b[0mcopy\u001b[0m\u001b[1;33m=\u001b[0m\u001b[1;32mFalse\u001b[0m\u001b[1;33m)\u001b[0m\u001b[1;33m\u001b[0m\u001b[1;33m\u001b[0m\u001b[0m\n",
      "\u001b[1;31mMemoryError\u001b[0m: "
     ]
    }
   ],
   "source": [
    "eigenCoeff = PCAfamilyCoeff(X_train)\n",
    "# drawEigenFaces(eigenCoeff, 100)\n",
    "# Example(100, predictions, y_test, unique_labels)"
   ]
  },
  {
   "cell_type": "code",
   "execution_count": null,
   "metadata": {},
   "outputs": [],
   "source": [
    "predictions = PCA_prediction(X_train, y_train, X_test)\n",
    "PCA_accuracy(predictions, y_test)"
   ]
  },
  {
   "cell_type": "code",
   "execution_count": null,
   "metadata": {},
   "outputs": [],
   "source": [
    "mean_ = mean(X_train)\n",
    "# X(X_train, mean_)\n",
    "print(mean_)"
   ]
  },
  {
   "cell_type": "code",
   "execution_count": 47,
   "metadata": {},
   "outputs": [
    {
     "name": "stdout",
     "output_type": "stream",
     "text": [
      "(9, 6)\n",
      "[[ 9 10  8 ...  2  3  5]\n",
      " [ 9  8  9 ...  4  3  3]\n",
      " [ 8  9  7 ...  4  2  2]\n",
      " ...\n",
      " [ 3  2  1 ...  7  7  6]\n",
      " [ 2  2  2 ...  9  9 10]\n",
      " [ 4  2  2 ...  7  6 10]]\n"
     ]
    }
   ],
   "source": [
    "a = np.random.randn(9, 6) + 1j*np.random.randn(9, 6)\n",
    "print(a.shape)\n",
    "u, s, vh = np.linalg.svd(a, full_matrices=True)\n",
    "print(X_train[30])    "
   ]
  },
  {
   "cell_type": "code",
   "execution_count": 55,
   "metadata": {},
   "outputs": [
    {
     "name": "stdout",
     "output_type": "stream",
     "text": [
      "[[ 57  55  57 ... 105 102 105]\n",
      " [  9  10   8 ...   7   6  10]]\n",
      "X_data:  [[ 57   9]\n",
      " [ 55  10]\n",
      " [ 57   8]\n",
      " ...\n",
      " [105   7]\n",
      " [102   6]\n",
      " [105  10]]\n",
      "X_data shape:  (65536, 2)\n",
      "mean:  [33.  32.5 32.5 ... 56.  54.  57.5]\n",
      "mean shape:  (65536,)\n",
      "X:  [[ 24.  -24. ]\n",
      " [ 22.5 -22.5]\n",
      " [ 24.5 -24.5]\n",
      " ...\n",
      " [ 49.  -49. ]\n",
      " [ 48.  -48. ]\n",
      " [ 47.5 -47.5]]\n",
      "X shape:  (65536, 2)\n",
      "u:  [[0. 0. 0. ... 0. 0. 0.]\n",
      " [0. 0. 0. ... 0. 0. 0.]\n",
      " [0. 0. 0. ... 0. 0. 0.]\n",
      " ...\n",
      " [0. 0. 0. ... 0. 0. 0.]\n",
      " [0. 0. 0. ... 0. 0. 0.]\n",
      " [0. 0. 0. ... 0. 0. 0.]]\n",
      "s:  [0. 1.]\n",
      "vh:  [[1. 1.]\n",
      " [1. 0.]]\n",
      "E:  [[0. 0. 0. ... 0. 0. 0.]\n",
      " [0. 0. 0. ... 0. 0. 0.]\n",
      " [0. 0. 0. ... 0. 0. 0.]\n",
      " ...\n",
      " [0. 0. 0. ... 0. 0. 0.]\n",
      " [0. 0. 0. ... 0. 0. 0.]\n",
      " [0. 0. 0. ... 0. 0. 0.]]\n",
      "E shape:  (65536, 65536)\n",
      "wtMat:  [[0. 0.]\n",
      " [0. 0.]\n",
      " [0. 0.]\n",
      " ...\n",
      " [0. 0.]\n",
      " [0. 0.]\n",
      " [0. 0.]]\n",
      "wtMat shape:  (65536, 2)\n"
     ]
    },
    {
     "data": {
      "text/plain": [
       "array([[0., 0.],\n",
       "       [0., 0.],\n",
       "       [0., 0.],\n",
       "       ...,\n",
       "       [0., 0.],\n",
       "       [0., 0.],\n",
       "       [0., 0.]])"
      ]
     },
     "execution_count": 55,
     "metadata": {},
     "output_type": "execute_result"
    }
   ],
   "source": [
    "PCAfamilyCoeff([X_train[0], X_train[30]])"
   ]
  },
  {
   "cell_type": "code",
   "execution_count": 78,
   "metadata": {},
   "outputs": [
    {
     "name": "stdout",
     "output_type": "stream",
     "text": [
      "(65536, 3)\n",
      "[[-27.         -75.         102.        ]\n",
      " [-24.66666667 -69.66666667  94.33333333]\n",
      " [-20.         -69.          89.        ]\n",
      " ...\n",
      " [ 66.33333333 -31.66666667 -34.66666667]\n",
      " [ 64.66666667 -31.33333333 -33.33333333]\n",
      " [ 64.33333333 -30.66666667 -33.66666667]]\n"
     ]
    }
   ],
   "source": [
    "exd = flattenData([X_train[0], X_train[30], X_train[15]])\n",
    "mean1 = mean(exd)\n",
    "X1 = X(exd, mean1)\n",
    "print(X1.shape)\n",
    "print(X1)\n",
    "# C1 = covMat(X1)\n",
    "# print(C1)"
   ]
  }
 ],
 "metadata": {
  "kernelspec": {
   "display_name": "Python 3",
   "language": "python",
   "name": "python3"
  },
  "language_info": {
   "codemirror_mode": {
    "name": "ipython",
    "version": 3
   },
   "file_extension": ".py",
   "mimetype": "text/x-python",
   "name": "python",
   "nbconvert_exporter": "python",
   "pygments_lexer": "ipython3",
   "version": "3.6.8"
  }
 },
 "nbformat": 4,
 "nbformat_minor": 2
}
